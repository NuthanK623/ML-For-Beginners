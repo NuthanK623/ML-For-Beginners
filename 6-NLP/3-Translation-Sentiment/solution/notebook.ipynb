{
 "metadata": {
  "language_info": {
   "codemirror_mode": {
    "name": "ipython",
    "version": 3
   },
   "file_extension": ".py",
   "mimetype": "text/x-python",
   "name": "python",
   "nbconvert_exporter": "python",
   "pygments_lexer": "ipython3",
   "version": 3
  },
  "orig_nbformat": 4
 },
 "nbformat": 4,
 "nbformat_minor": 2,
 "cells": [
  {
   "cell_type": "code",
   "execution_count": null,
   "source": [
    "from textblob import TextBlob\r\n"
   ],
   "outputs": [],
   "metadata": {}
  },
  {
   "cell_type": "code",
   "execution_count": null,
   "source": [
    "# You should download the book text, clean it, and import it here\r\n",
    "with open(\"pride.txt\", encoding=\"utf8\") as f:\r\n",
    "    file_contents = f.read()\r\n"
   ],
   "outputs": [],
   "metadata": {}
  },
  {
   "cell_type": "code",
   "execution_count": null,
   "source": [
    "book_pride = TextBlob(file_contents)\r\n",
    "positive_sentiment_sentences = []\r\n",
    "negative_sentiment_sentences = []"
   ],
   "outputs": [],
   "metadata": {}
  },
  {
   "cell_type": "code",
   "execution_count": null,
   "source": [
    "for sentence in book_pride.sentences:\r\n",
    "    if sentence.sentiment.polarity == 1:\r\n",
    "        positive_sentiment_sentences.append(sentence)\r\n",
    "    if sentence.sentiment.polarity == -1:\r\n",
    "        negative_sentiment_sentences.append(sentence)\r\n"
   ],
   "outputs": [],
   "metadata": {}
  },
  {
   "cell_type": "code",
   "execution_count": null,
   "source": [
    "print(\"The \" + str(len(positive_sentiment_sentences)) + \" most positive sentences:\")\r\n",
    "for sentence in positive_sentiment_sentences:\r\n",
    "    print(\"+ \" + str(sentence.replace(\"\\n\", \"\").replace(\"      \", \" \")))\r\n"
   ],
   "outputs": [],
   "metadata": {}
  },
  {
   "cell_type": "code",
   "execution_count": null,
   "source": [
    "print(\"The \" + str(len(negative_sentiment_sentences)) + \" most negative sentences:\")\r\n",
    "for sentence in negative_sentiment_sentences:\r\n",
    "    print(\"- \" + str(sentence.replace(\"\\n\", \"\").replace(\"      \", \" \")))\r\n",
    "    print(\"This is a test\")"
   ],
   "outputs": [],
   "metadata": {}
  }
 ]
}